{
 "cells": [
  {
   "cell_type": "markdown",
   "metadata": {},
   "source": [
    "# Cálculo de $\\pi$ con el Método de Montecarlo"
   ]
  },
  {
   "cell_type": "code",
   "execution_count": 27,
   "metadata": {
    "collapsed": false
   },
   "outputs": [
    {
     "name": "stdout",
     "output_type": "stream",
     "text": [
      "available engines [0, 1, 2, 3]\n"
     ]
    }
   ],
   "source": [
    "import os,sys,time\n",
    "import matplotlib.pyplot as plot\n",
    "import numpy as np\n",
    "import matplotlib\n",
    "import time\n",
    "import ipyparallel as ipp\n",
    "rc = ipp.Client()\n",
    "print \"available engines\", rc.ids"
   ]
  },
  {
   "cell_type": "code",
   "execution_count": 3,
   "metadata": {
    "collapsed": false
   },
   "outputs": [
    {
     "name": "stdout",
     "output_type": "stream",
     "text": [
      "[stdout:0] hola\n",
      "[stdout:1] hola\n",
      "[stdout:2] hola\n",
      "[stdout:3] hola\n"
     ]
    }
   ],
   "source": [
    "%px print \"hola\""
   ]
  },
  {
   "cell_type": "markdown",
   "metadata": {},
   "source": [
    "## <font style=\"color: red\">TAREA 1: Escribe una función que, si sacamos $N$ números aleatorios, cuente cuantos caen dentro de un círculo de radio 1</font>"
   ]
  },
  {
   "cell_type": "code",
   "execution_count": 4,
   "metadata": {
    "collapsed": true
   },
   "outputs": [],
   "source": [
    "%%px --local\n",
    "import numpy as np\n",
    "from random import random\n",
    "from math import sqrt"
   ]
  },
  {
   "cell_type": "code",
   "execution_count": 5,
   "metadata": {
    "collapsed": true
   },
   "outputs": [],
   "source": [
    "%%px --local\n",
    "def count_inside(N):\n",
    "    ok = 0.\n",
    "    for i in range(N):\n",
    "        x,y = random(), random()\n",
    "        d = sqrt(x ** 2.0 + y ** 2.0)\n",
    "        if d < 1:\n",
    "            ok += 1.\n",
    "    return ok"
   ]
  },
  {
   "cell_type": "code",
   "execution_count": 6,
   "metadata": {
    "collapsed": false
   },
   "outputs": [
    {
     "name": "stdout",
     "output_type": "stream",
     "text": [
      "2 loops, best of 3: 2.23 s per loop\n",
      "pi estimado 3.143908\n",
      "tiempo      2.23258292675 [sec]\n"
     ]
    }
   ],
   "source": [
    "N = 1000000 #4*1e5\n",
    "t = %timeit -o -r 3 -n 2 count_inside(N)*4./N\n",
    "print \"pi estimado\", count_inside(N)*4./N\n",
    "print \"tiempo     \", t.best, \"[sec]\""
   ]
  },
  {
   "cell_type": "markdown",
   "metadata": {},
   "source": [
    "## <font style=\"color: red\">TAREA 2: Usa `dv.apply` con la función anterior para distribuir $N$ entre los nodos disponibles en el cluster</font>"
   ]
  },
  {
   "cell_type": "code",
   "execution_count": 7,
   "metadata": {
    "collapsed": false
   },
   "outputs": [
    {
     "name": "stdout",
     "output_type": "stream",
     "text": [
      "[0, 1, 2, 3]\n",
      "Numero de Nodos: 4\n"
     ]
    }
   ],
   "source": [
    "dv = rc.direct_view()\n",
    "print rc.ids\n",
    "NumNodos = np.count_nonzero(rc.ids)+1 #numero de nodos disponibles\n",
    "print(\"Numero de Nodos: \" + str(NumNodos))"
   ]
  },
  {
   "cell_type": "markdown",
   "metadata": {},
   "source": [
    "Define primero tu función en todos los nodos"
   ]
  },
  {
   "cell_type": "code",
   "execution_count": 8,
   "metadata": {
    "collapsed": false
   },
   "outputs": [
    {
     "data": {
      "text/plain": [
       "[196616.0, 196078.0, 196506.0, 196800.0]"
      ]
     },
     "execution_count": 8,
     "metadata": {},
     "output_type": "execute_result"
    }
   ],
   "source": [
    "dr = dv.apply(count_inside,N/NumNodos) #cada nodo se encarga de correr N/número de nodos iteraciones y cada uno me devuelve u valor de aciertos\n",
    "dr.get()"
   ]
  },
  {
   "cell_type": "markdown",
   "metadata": {},
   "source": [
    "Usa `dv.apply` o `dv.map` para ejecutar tu función en paralelo. Ten en cuanta de que si hay k nodos y quieres usar N puntos, cada nodo tendrá que usar N/k puntos."
   ]
  },
  {
   "cell_type": "code",
   "execution_count": 10,
   "metadata": {
    "collapsed": false
   },
   "outputs": [
    {
     "name": "stdout",
     "output_type": "stream",
     "text": [
      "pi estimado 3.144\n",
      "tiempo      0.831335 [sec]\n",
      "ha sido mas eficiente el paralelizar en:  2.68553943567  veces más rápido\n"
     ]
    }
   ],
   "source": [
    "TodosLosResultados = 0.\n",
    "for i in range(NumNodos): #recorrro los resultados de mis nodos y los sumo\n",
    "    TodosLosResultados += (dr.r[i])\n",
    "print \"pi estimado\", TodosLosResultados*4./N\n",
    "print \"tiempo     \", dr.elapsed, \"[sec]\"\n",
    "if dr.elapsed < t.best:\n",
    "    print \"ha sido mas eficiente el paralelizar en: \", (t.best/dr.elapsed), \" veces más rápido\"\n",
    "else:\n",
    "    print \"ha sido mas eficiente sin paralelizar.\""
   ]
  },
  {
   "cell_type": "code",
   "execution_count": 11,
   "metadata": {
    "collapsed": false
   },
   "outputs": [
    {
     "name": "stdout",
     "output_type": "stream",
     "text": [
      "Nodo N°  0 demoró en la tarea.  0.658086 [sec]\n",
      "Nodo N°  1 demoró en la tarea.  0.756227 [sec]\n",
      "Nodo N°  2 demoró en la tarea.  0.683876 [sec]\n",
      "Nodo N°  3 demoró en la tarea.  0.697318 [sec]\n"
     ]
    }
   ],
   "source": [
    "for i in range(NumNodos):\n",
    "    inicia = dr.metadata[i]['started']\n",
    "    termina = dr.metadata[i]['completed']\n",
    "    #recibe = dr.metadata[i]['received']\n",
    "    #enviada = dr.metadata[i]['submitted']\n",
    "    print \"Nodo N° \", dr.metadata[i]['engine_id'], \"demoró en la tarea. \", (termina-inicia).total_seconds() , \"[sec]\"\n",
    "    "
   ]
  },
  {
   "cell_type": "markdown",
   "metadata": {},
   "source": [
    "## <font style=\"color:red\"> TAREA 3: Ejecuta tu código con 1,2,3... engines y obtén la curva de escalabilidad\n"
   ]
  },
  {
   "cell_type": "code",
   "execution_count": 12,
   "metadata": {
    "collapsed": false
   },
   "outputs": [
    {
     "name": "stdout",
     "output_type": "stream",
     "text": [
      "Número de Nodo:  0\n",
      "Parametros: [1000000]\n",
      "Lista:  [[785947.0]]\n",
      "Tiempos:  [2.106235980987549]\n",
      "-------------------\n",
      "Número de Nodo:  1\n",
      "Parametros: [500000, 500000]\n",
      "Lista:  [[785947.0], [392733.0, 392167.0]]\n",
      "Tiempos:  [2.106235980987549, 1.1833760738372803]\n",
      "-------------------\n",
      "Número de Nodo:  2\n",
      "Parametros: [333333, 333333, 333333]\n",
      "Lista:  [[785947.0], [392733.0, 392167.0], [261606.0, 261783.0, 261578.0]]\n",
      "Tiempos:  [2.106235980987549, 1.1833760738372803, 0.8520700931549072]\n",
      "-------------------\n",
      "Número de Nodo:  3\n",
      "Parametros: [250000, 250000, 250000, 250000]\n",
      "Lista:  [[785947.0], [392733.0, 392167.0], [261606.0, 261783.0, 261578.0], [196206.0, 196175.0, 196408.0, 196620.0]]\n",
      "Tiempos:  [2.106235980987549, 1.1833760738372803, 0.8520700931549072, 0.9107520580291748]\n",
      "-------------------\n"
     ]
    }
   ],
   "source": [
    "Lista = []\n",
    "Parametros = []\n",
    "tiempos = []\n",
    "for i in range(NumNodos):\n",
    "    Parametros = []\n",
    "    for j in range(i+1):\n",
    "        Parametros.append(N/(i+1))\n",
    "    start_time = time.time()\n",
    "    drn = dv.map_sync(count_inside,Parametros)\n",
    "    end_time = time.time()\n",
    "    tiempos.append(end_time-start_time) #el tiempo que demora cada hace las operaciones\n",
    "    Lista.append(drn)#guardo la lista de resultados\n",
    "    print \"Número de Nodo: \", i\n",
    "    print \"Parametros:\", Parametros\n",
    "    print \"Lista: \", Lista\n",
    "    print \"Tiempos: \", tiempos\n",
    "    print \"-------------------\""
   ]
  },
  {
   "cell_type": "code",
   "execution_count": 30,
   "metadata": {
    "collapsed": false
   },
   "outputs": [
    {
     "name": "stdout",
     "output_type": "stream",
     "text": [
      "[0, 1, 2, 3] [2.106235980987549, 1.1833760738372803, 0.8520700931549072, 0.9107520580291748]\n"
     ]
    }
   ],
   "source": [
    "x = range(NumNodos)\n",
    "y = tiempos\n",
    "print x,y"
   ]
  },
  {
   "cell_type": "markdown",
   "metadata": {},
   "source": [
    "En una máquina con cuatro procesadores, una posible curva sería esta"
   ]
  },
  {
   "cell_type": "code",
   "execution_count": 34,
   "metadata": {
    "collapsed": false
   },
   "outputs": [
    {
     "data": {
      "text/plain": [
       "<matplotlib.text.Text at 0xabaa1a6c>"
      ]
     },
     "execution_count": 34,
     "metadata": {},
     "output_type": "execute_result"
    },
    {
     "data": {
      "image/png": "[encoded data removed]",
      "text/plain": [
       "<matplotlib.figure.Figure at 0xac211eac>"
      ]
     },
     "metadata": {},
     "output_type": "display_data"
    }
   ],
   "source": [
    "%matplotlib inline\n",
    "plot.plot(x, y, color='green', linestyle='dashed', marker='o', markerfacecolor='blue', markersize=12)\n",
    "plot.xlabel('Numero de Nodo')\n",
    "plot.ylabel('Tiempo [sec]')\n",
    "plot.title('Curva de mejora con cada nodo')"
   ]
  },
  {
   "cell_type": "code",
   "execution_count": 18,
   "metadata": {
    "collapsed": false
   },
   "outputs": [
    {
     "name": "stdout",
     "output_type": "stream",
     "text": [
      "The version_information extension is already loaded. To reload it, use:\n",
      "  %reload_ext version_information\n"
     ]
    },
    {
     "data": {
      "application/json": {
       "Software versions": [
        {
         "module": "Python",
         "version": "2.7.11 32bit [GCC 4.4.7 20120313 (Red Hat 4.4.7-1)]"
        },
        {
         "module": "IPython",
         "version": "4.1.1"
        },
        {
         "module": "OS",
         "version": "Linux 3.16.7 ckt20 smp i686 with debian 8.2"
        },
        {
         "module": "matplotlib",
         "version": "1.5.1"
        },
        {
         "module": "sympy",
         "version": "0.7.6.1"
        },
        {
         "module": "numpy",
         "version": "1.10.4"
        }
       ]
      },
      "text/html": [
       "<table><tr><th>Software</th><th>Version</th></tr><tr><td>Python</td><td>2.7.11 32bit [GCC 4.4.7 20120313 (Red Hat 4.4.7-1)]</td></tr><tr><td>IPython</td><td>4.1.1</td></tr><tr><td>OS</td><td>Linux 3.16.7 ckt20 smp i686 with debian 8.2</td></tr><tr><td>matplotlib</td><td>1.5.1</td></tr><tr><td>sympy</td><td>0.7.6.1</td></tr><tr><td>numpy</td><td>1.10.4</td></tr><tr><td colspan='2'>Thu Jun 09 08:23:09 2016 COT</td></tr></table>"
      ],
      "text/latex": [
       "\\begin{tabular}{|l|l|}\\hline\n",
       "{\\bf Software} & {\\bf Version} \\\\ \\hline\\hline\n",
       "Python & 2.7.11 32bit [GCC 4.4.7 20120313 (Red Hat 4.4.7-1)] \\\\ \\hline\n",
       "IPython & 4.1.1 \\\\ \\hline\n",
       "OS & Linux 3.16.7 ckt20 smp i686 with debian 8.2 \\\\ \\hline\n",
       "matplotlib & 1.5.1 \\\\ \\hline\n",
       "sympy & 0.7.6.1 \\\\ \\hline\n",
       "numpy & 1.10.4 \\\\ \\hline\n",
       "\\hline \\multicolumn{2}{|l|}{Thu Jun 09 08:23:09 2016 COT} \\\\ \\hline\n",
       "\\end{tabular}\n"
      ],
      "text/plain": [
       "Software versions\n",
       "Python 2.7.11 32bit [GCC 4.4.7 20120313 (Red Hat 4.4.7-1)]\n",
       "IPython 4.1.1\n",
       "OS Linux 3.16.7 ckt20 smp i686 with debian 8.2\n",
       "matplotlib 1.5.1\n",
       "sympy 0.7.6.1\n",
       "numpy 1.10.4\n",
       "Thu Jun 09 08:23:09 2016 COT"
      ]
     },
     "execution_count": 18,
     "metadata": {},
     "output_type": "execute_result"
    }
   ],
   "source": [
    "%load_ext version_information\n",
    "%version_information matplotlib, sympy, numpy"
   ]
  },
  {
   "cell_type": "code",
   "execution_count": 35,
   "metadata": {
    "collapsed": false
   },
   "outputs": [
    {
     "name": "stdout",
     "output_type": "stream",
     "text": [
      "Architecture:          i686\r\n",
      "CPU op-mode(s):        32-bit\r\n",
      "Byte Order:            Little Endian\r\n",
      "CPU(s):                4\r\n",
      "On-line CPU(s) list:   0-3\r\n",
      "Thread(s) per core:    1\r\n",
      "Core(s) per socket:    4\r\n",
      "Socket(s):             1\r\n",
      "Vendor ID:             AuthenticAMD\r\n",
      "CPU family:            22\r\n",
      "Model:                 48\r\n",
      "Model name:            AMD A8-6410 APU with AMD Radeon R5 Graphics\r\n",
      "Stepping:              1\r\n",
      "CPU MHz:               1996.258\r\n",
      "BogoMIPS:              3992.51\r\n",
      "Hypervisor vendor:     KVM\r\n",
      "Virtualization type:   full\r\n",
      "L1d cache:             32K\r\n",
      "L1i cache:             32K\r\n",
      "L2 cache:              2048K\r\n"
     ]
    }
   ],
   "source": [
    "!lscpu"
   ]
  },
  {
   "cell_type": "code",
   "execution_count": null,
   "metadata": {
    "collapsed": true
   },
   "outputs": [],
   "source": []
  }
 ],
 "metadata": {
  "kernelspec": {
   "display_name": "Python 2",
   "language": "python",
   "name": "python2"
  },
  "language_info": {
   "codemirror_mode": {
    "name": "ipython",
    "version": 2
   },
   "file_extension": ".py",
   "mimetype": "text/x-python",
   "name": "python",
   "nbconvert_exporter": "python",
   "pygments_lexer": "ipython2",
   "version": "2.7.11"
  },
  "toc": {
   "toc_cell": false,
   "toc_number_sections": true,
   "toc_threshold": 6,
   "toc_window_display": false
  }
 },
 "nbformat": 4,
 "nbformat_minor": 0
}
