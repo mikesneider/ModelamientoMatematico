{
 "cells": [
  {
   "cell_type": "markdown",
   "metadata": {},
   "source": [
    "# Double Pendulum\n",
    "\n",
    "Basado en el documento en linea [EL Péndulo doble - De la Universidad de Pais Vasco](http://www.sc.ehu.es/sbweb/fisica/oscilaciones/pendulo_doble/pendulo_doble.htm) \n",
    "y [Double Pendulum](http://sophia.dtp.fmph.uniba.sk/~kovacik/doublePendulum.pdf)\n",
    "\n",
    "El péndulo doble se  estudia un sistema de dos osciladores acoplados. se va a resolver las ecuaciones del movimiento, a calcular las frecuencias de los modos normales de oscilación, y las condiciones iniciales que hacen que el sistema describa un modo normal de oscilación.\n",
    "\n",
    "<img src=\"http://mw.concord.org/modeler1.3/mirror/mechanics/doublependulum.gif\"/>\n",
    "\n",
    "El péndulo doble como se muestra en la siguiente figura, está formado por dos péndulos simples de longitudes $l1$ y $l2$, de los que cuelgan partículas de masas $m1$ y $m2$.  En un instante determinado $t$, los hilos inextensibles forman ángulos $θ1$ y $θ2$ con la vertical.\n",
    "\n",
    "\n",
    "<img src=\"http://www.sc.ehu.es/sbweb/fisica/oscilaciones/pendulo_doble/doble_1.gif\"/>\n",
    "\n"
   ]
  },
  {
   "cell_type": "code",
   "execution_count": 190,
   "metadata": {
    "collapsed": false
   },
   "outputs": [],
   "source": [
    "import sympy as sym\n",
    "from sympy import *\n",
    "import numpy as np\n",
    "import matplotlib\n",
    "matplotlib.use(\"Agg\")\n",
    "import matplotlib.pyplot as plt\n",
    "import matplotlib.animation as animation\n",
    "import sys\n",
    "import os\n",
    "from scipy.integrate import ode\n",
    "from IPython.display import HTML\n",
    "%matplotlib inline\n",
    "\n",
    "init_printing(use_latex=True)"
   ]
  },
  {
   "cell_type": "code",
   "execution_count": 161,
   "metadata": {
    "collapsed": false
   },
   "outputs": [],
   "source": [
    "theta = sym.Function('theta')\n",
    "phi = sym.Function('phi')\n",
    "x = sym.Function('x')\n",
    "y = sym.Function('y')\n",
    "t,L1,L2,m1,m2,g = sym.symbols('t L1 L2 m1 m2 g')"
   ]
  },
  {
   "cell_type": "code",
   "execution_count": 3,
   "metadata": {
    "collapsed": false
   },
   "outputs": [],
   "source": [
    "x1 = L1*sym.sin(theta(t))\n",
    "x2 = x1 + L2*sym.sin(phi(t))\n",
    "y1 = -L1*sym.cos(theta(t))\n",
    "y2 = y1 - L2*sym.cos(phi(t))"
   ]
  },
  {
   "cell_type": "markdown",
   "metadata": {},
   "source": [
    "**Gráfica de la posición y angulos utilizados**\n",
    "<img src=\"imgs/grafPendulum.JPG\"/>"
   ]
  },
  {
   "cell_type": "code",
   "execution_count": 4,
   "metadata": {
    "collapsed": false
   },
   "outputs": [
    {
     "name": "stdout",
     "output_type": "stream",
     "text": [
      "Ecuación para la energía potencial\n"
     ]
    },
    {
     "data": {
      "image/png": "[encoded data removed]",
      "text/latex": [
       "$$- L_{1} g m_{1} \\cos{\\left (\\theta{\\left (t \\right )} \\right )} + g m_{2} \\left(- L_{1} \\cos{\\left (\\theta{\\left (t \\right )} \\right )} - L_{2} \\cos{\\left (\\phi{\\left (t \\right )} \\right )}\\right)$$"
      ],
      "text/plain": [
       "-L₁⋅g⋅m₁⋅cos(θ(t)) + g⋅m₂⋅(-L₁⋅cos(θ(t)) - L₂⋅cos(φ(t)))"
      ]
     },
     "execution_count": 4,
     "metadata": {},
     "output_type": "execute_result"
    }
   ],
   "source": [
    "P = m1*g*y1 + m2*g*y2\n",
    "print(\"Ecuación para la energía potencial\")\n",
    "P"
   ]
  },
  {
   "cell_type": "markdown",
   "metadata": {},
   "source": [
    "**Ecuación para la energía cinética**\n",
    "<img src=\"imgs/energiaCinetica.JPG\"/>"
   ]
  },
  {
   "cell_type": "code",
   "execution_count": 5,
   "metadata": {
    "collapsed": false
   },
   "outputs": [
    {
     "name": "stdout",
     "output_type": "stream",
     "text": [
      "El Lagrangiano (L) de un sistema está definido por la diferencia entre energía cinética y energía potencial\n"
     ]
    },
    {
     "data": {
      "image/png": "[encoded data removed]",
      "text/latex": [
       "$$\\frac{L_{1}^{2} m_{1}}{2} \\left(\\frac{d}{d t} \\theta{\\left (t \\right )}\\right)^{2} + L_{1} g m_{1} \\cos{\\left (\\theta{\\left (t \\right )} \\right )} + g m_{2} \\left(L_{1} \\cos{\\left (\\theta{\\left (t \\right )} \\right )} + L_{2} \\cos{\\left (\\phi{\\left (t \\right )} \\right )}\\right) + \\frac{m_{2}}{2} \\left(L_{1}^{2} \\left(\\frac{d}{d t} \\theta{\\left (t \\right )}\\right)^{2} + 2 L_{1} L_{2} \\cos{\\left (\\phi{\\left (t \\right )} - \\theta{\\left (t \\right )} \\right )} \\frac{d}{d t} \\phi{\\left (t \\right )} \\frac{d}{d t} \\theta{\\left (t \\right )} + L_{2}^{2} \\left(\\frac{d}{d t} \\phi{\\left (t \\right )}\\right)^{2}\\right)$$"
      ],
      "text/plain": [
       "                 2                                                            \n",
       "  2    ⎛d       ⎞                                                             \n",
       "L₁ ⋅m₁⋅⎜──(θ(t))⎟                                                             \n",
       "       ⎝dt      ⎠                                                             \n",
       "────────────────── + L₁⋅g⋅m₁⋅cos(θ(t)) + g⋅m₂⋅(L₁⋅cos(θ(t)) + L₂⋅cos(φ(t))) + \n",
       "        2                                                                     \n",
       "\n",
       "   ⎛              2                                                           \n",
       "   ⎜  2 ⎛d       ⎞                             d        d            2 ⎛d     \n",
       "m₂⋅⎜L₁ ⋅⎜──(θ(t))⎟  + 2⋅L₁⋅L₂⋅cos(φ(t) - θ(t))⋅──(φ(t))⋅──(θ(t)) + L₂ ⋅⎜──(φ(t\n",
       "   ⎝    ⎝dt      ⎠                             dt       dt             ⎝dt    \n",
       "──────────────────────────────────────────────────────────────────────────────\n",
       "                                         2                                    \n",
       "\n",
       "   2⎞\n",
       "  ⎞ ⎟\n",
       "))⎟ ⎟\n",
       "  ⎠ ⎠\n",
       "─────\n",
       "     "
      ]
     },
     "execution_count": 5,
     "metadata": {},
     "output_type": "execute_result"
    }
   ],
   "source": [
    "K = (m1*(sym.diff(x1,t)**2+sym.diff(y1,t)**2)/2 + (m2*(sym.diff(x2,t)**2 + sym.diff(y2,t)**2)/2))\n",
    "print(\"El Lagrangiano (L) de un sistema está definido por la diferencia entre energía cinética y energía potencial\")\n",
    "L = K-P\n",
    "sym.simplify(L)"
   ]
  },
  {
   "cell_type": "markdown",
   "metadata": {},
   "source": [
    "El teorema general de la conservación de la energía es la expresión Euler-Lagrange:\n",
    "$$\\frac{d}{dt} (\\frac{\\partial L }{\\partial \\dotθ_1} )= \\frac{\\partial L }{\\partial θ_1}$$\n"
   ]
  },
  {
   "cell_type": "markdown",
   "metadata": {},
   "source": [
    "<img src=\"imgs/equation1.JPG\"/>"
   ]
  },
  {
   "cell_type": "markdown",
   "metadata": {},
   "source": [
    "Y remplazando por la ecuación Euler-lagrange\n",
    "<img src=\"imgs/eq1.JPG\"/>"
   ]
  },
  {
   "cell_type": "code",
   "execution_count": 6,
   "metadata": {
    "collapsed": false
   },
   "outputs": [
    {
     "data": {
      "image/png": "[encoded data removed]",
      "text/latex": [
       "$$L_{1} \\left(L_{1} m_{1} \\frac{d^{2}}{d t^{2}}  \\theta{\\left (t \\right )} + L_{1} m_{2} \\frac{d^{2}}{d t^{2}}  \\theta{\\left (t \\right )} - L_{2} m_{2} \\sin{\\left (\\phi{\\left (t \\right )} - \\theta{\\left (t \\right )} \\right )} \\left(\\frac{d}{d t} \\phi{\\left (t \\right )}\\right)^{2} + L_{2} m_{2} \\cos{\\left (\\phi{\\left (t \\right )} - \\theta{\\left (t \\right )} \\right )} \\frac{d^{2}}{d t^{2}}  \\phi{\\left (t \\right )} + g m_{1} \\sin{\\left (\\theta{\\left (t \\right )} \\right )} + g m_{2} \\sin{\\left (\\theta{\\left (t \\right )} \\right )}\\right) = 0$$"
      ],
      "text/plain": [
       "   ⎛        2                 2                                          2    \n",
       "   ⎜       d                 d                                 ⎛d       ⎞     \n",
       "L₁⋅⎜L₁⋅m₁⋅───(θ(t)) + L₁⋅m₂⋅───(θ(t)) - L₂⋅m₂⋅sin(φ(t) - θ(t))⋅⎜──(φ(t))⎟  + L\n",
       "   ⎜        2                 2                                ⎝dt      ⎠     \n",
       "   ⎝      dt                dt                                                \n",
       "\n",
       "                        2                                        ⎞    \n",
       "                       d                                         ⎟    \n",
       "₂⋅m₂⋅cos(φ(t) - θ(t))⋅───(φ(t)) + g⋅m₁⋅sin(θ(t)) + g⋅m₂⋅sin(θ(t))⎟ = 0\n",
       "                        2                                        ⎟    \n",
       "                      dt                                         ⎠    "
      ]
     },
     "execution_count": 6,
     "metadata": {},
     "output_type": "execute_result"
    }
   ],
   "source": [
    "Eq1 = sym.diff(L,sym.diff(theta(t),t),t)-sym.diff(L,theta(t)) \n",
    "Eq1 = sym.Eq(Eq1,0)\n",
    "sym.simplify(Eq1)"
   ]
  },
  {
   "cell_type": "markdown",
   "metadata": {},
   "source": [
    "Simplificando y resolviendo por $θ_1$\n",
    "<img src=\"imgs/theta1.JPG\"/>"
   ]
  },
  {
   "cell_type": "code",
   "execution_count": 7,
   "metadata": {
    "collapsed": false
   },
   "outputs": [
    {
     "name": "stdout",
     "output_type": "stream",
     "text": [
      "CPU times: user 4.45 s, sys: 0 ns, total: 4.45 s\n",
      "Wall time: 4.39 s\n"
     ]
    }
   ],
   "source": [
    "%%time\n",
    "theta2=sym.solvers.solve([Eq1],[sym.diff(theta(t),t,t)])"
   ]
  },
  {
   "cell_type": "code",
   "execution_count": 8,
   "metadata": {
    "collapsed": false
   },
   "outputs": [
    {
     "data": {
      "image/png": "[encoded data removed]",
      "text/latex": [
       "$$\\left \\{ \\frac{d^{2}}{d t^{2}}  \\theta{\\left (t \\right )} : \\frac{1}{L_{1} \\left(m_{1} + m_{2}\\right)} \\left(L_{2} m_{2} \\sin{\\left (\\phi{\\left (t \\right )} - \\theta{\\left (t \\right )} \\right )} \\left(\\frac{d}{d t} \\phi{\\left (t \\right )}\\right)^{2} - L_{2} m_{2} \\cos{\\left (\\phi{\\left (t \\right )} - \\theta{\\left (t \\right )} \\right )} \\frac{d^{2}}{d t^{2}}  \\phi{\\left (t \\right )} - g m_{1} \\sin{\\left (\\theta{\\left (t \\right )} \\right )} - g m_{2} \\sin{\\left (\\theta{\\left (t \\right )} \\right )}\\right)\\right \\}$$"
      ],
      "text/plain": [
       "⎧                                            2                            2   \n",
       "⎪                                  ⎛d       ⎞                            d    \n",
       "⎪           L₂⋅m₂⋅sin(φ(t) - θ(t))⋅⎜──(φ(t))⎟  - L₂⋅m₂⋅cos(φ(t) - θ(t))⋅───(φ(\n",
       "⎪  2                               ⎝dt      ⎠                             2   \n",
       "⎨ d                                                                     dt    \n",
       "⎪───(θ(t)): ──────────────────────────────────────────────────────────────────\n",
       "⎪  2                                                      L₁⋅(m₁ + m₂)        \n",
       "⎪dt                                                                           \n",
       "⎩                                                                             \n",
       "\n",
       "                                     ⎫\n",
       "                                     ⎪\n",
       "t)) - g⋅m₁⋅sin(θ(t)) - g⋅m₂⋅sin(θ(t))⎪\n",
       "                                     ⎪\n",
       "                                     ⎬\n",
       "─────────────────────────────────────⎪\n",
       "                                     ⎪\n",
       "                                     ⎪\n",
       "                                     ⎭"
      ]
     },
     "execution_count": 8,
     "metadata": {},
     "output_type": "execute_result"
    }
   ],
   "source": [
    "sym.simplify(theta2)"
   ]
  },
  {
   "cell_type": "code",
   "execution_count": 9,
   "metadata": {
    "collapsed": false
   },
   "outputs": [
    {
     "data": {
      "image/png": "[encoded data removed]",
      "text/latex": [
       "$$L_{2} m_{2} \\left(L_{1} \\sin{\\left (\\phi{\\left (t \\right )} - \\theta{\\left (t \\right )} \\right )} \\left(\\frac{d}{d t} \\theta{\\left (t \\right )}\\right)^{2} + L_{1} \\cos{\\left (\\phi{\\left (t \\right )} - \\theta{\\left (t \\right )} \\right )} \\frac{d^{2}}{d t^{2}}  \\theta{\\left (t \\right )} + L_{2} \\frac{d^{2}}{d t^{2}}  \\phi{\\left (t \\right )} + g \\sin{\\left (\\phi{\\left (t \\right )} \\right )}\\right) = 0$$"
      ],
      "text/plain": [
       "      ⎛                              2                         2              \n",
       "      ⎜                    ⎛d       ⎞                         d              d\n",
       "L₂⋅m₂⋅⎜L₁⋅sin(φ(t) - θ(t))⋅⎜──(θ(t))⎟  + L₁⋅cos(φ(t) - θ(t))⋅───(θ(t)) + L₂⋅──\n",
       "      ⎜                    ⎝dt      ⎠                          2              \n",
       "      ⎝                                                      dt             dt\n",
       "\n",
       "2                    ⎞    \n",
       "                     ⎟    \n",
       "─(φ(t)) + g⋅sin(φ(t))⎟ = 0\n",
       "2                    ⎟    \n",
       "                     ⎠    "
      ]
     },
     "execution_count": 9,
     "metadata": {},
     "output_type": "execute_result"
    }
   ],
   "source": [
    "Eq2 = sym.diff(L,sym.diff(phi(t),t),t)-sym.diff(L,phi(t)) #sym.diff(L,phi(t),2,t) - sym.diff(L,phi(t))\n",
    "Eq2 = sym.Eq(Eq2,0)\n",
    "sym.simplify(Eq2)"
   ]
  },
  {
   "cell_type": "markdown",
   "metadata": {},
   "source": [
    "Simplificando y resolviendo por $θ_2$\n",
    "<img src=\"imgs/theta2.JPG\"/>"
   ]
  },
  {
   "cell_type": "code",
   "execution_count": 10,
   "metadata": {
    "collapsed": false
   },
   "outputs": [
    {
     "name": "stdout",
     "output_type": "stream",
     "text": [
      "CPU times: user 2.43 s, sys: 0 ns, total: 2.43 s\n",
      "Wall time: 2.41 s\n"
     ]
    }
   ],
   "source": [
    "%%time\n",
    "phi2 = sym.solvers.solve([Eq2],[sym.diff(phi(t),t,t)])"
   ]
  },
  {
   "cell_type": "code",
   "execution_count": 11,
   "metadata": {
    "collapsed": false
   },
   "outputs": [
    {
     "data": {
      "image/png": "[encoded data removed]",
      "text/latex": [
       "$$\\left \\{ \\frac{d^{2}}{d t^{2}}  \\phi{\\left (t \\right )} : - \\frac{1}{L_{2}} \\left(L_{1} \\sin{\\left (\\phi{\\left (t \\right )} - \\theta{\\left (t \\right )} \\right )} \\left(\\frac{d}{d t} \\theta{\\left (t \\right )}\\right)^{2} + L_{1} \\cos{\\left (\\phi{\\left (t \\right )} - \\theta{\\left (t \\right )} \\right )} \\frac{d^{2}}{d t^{2}}  \\theta{\\left (t \\right )} + g \\sin{\\left (\\phi{\\left (t \\right )} \\right )}\\right)\\right \\}$$"
      ],
      "text/plain": [
       "⎧            ⎛                              2                         2       \n",
       "⎪            ⎜                    ⎛d       ⎞                         d        \n",
       "⎪           -⎜L₁⋅sin(φ(t) - θ(t))⋅⎜──(θ(t))⎟  + L₁⋅cos(φ(t) - θ(t))⋅───(θ(t)) \n",
       "⎪  2         ⎜                    ⎝dt      ⎠                          2       \n",
       "⎨ d          ⎝                                                      dt        \n",
       "⎪───(φ(t)): ──────────────────────────────────────────────────────────────────\n",
       "⎪  2                                                L₂                        \n",
       "⎪dt                                                                           \n",
       "⎩                                                                             \n",
       "\n",
       "             ⎞ ⎫\n",
       "             ⎟ ⎪\n",
       "+ g⋅sin(φ(t))⎟ ⎪\n",
       "             ⎟ ⎪\n",
       "             ⎠ ⎬\n",
       "───────────────⎪\n",
       "               ⎪\n",
       "               ⎪\n",
       "               ⎭"
      ]
     },
     "execution_count": 11,
     "metadata": {},
     "output_type": "execute_result"
    }
   ],
   "source": [
    "sym.simplify(phi2)"
   ]
  },
  {
   "cell_type": "markdown",
   "metadata": {},
   "source": [
    "Saco las ecuaciones del tipo de dato DICT para poderlo manipular, luego de eso sustituyo las variables de las velocidades del angulo y por ultimo para poder resolver las ecuaciones de movimiento, genero 4 ecuaciones de primer orden, en vez de 2 ecuaciones de segundo orden [info](http://home2.fvcc.edu/~dhicketh/DiffEqns/spring09projects/LauraStickel/Double%20Pendulum.pdf)"
   ]
  },
  {
   "cell_type": "code",
   "execution_count": 12,
   "metadata": {
    "collapsed": false
   },
   "outputs": [],
   "source": [
    "#saco el dato del tipo de dato DICT\n",
    "diffTheta2 = theta2[sym.diff(theta(t),t,t)]\n",
    "diffPhi2 = phi2[sym.diff(phi(t),t,t)]"
   ]
  },
  {
   "cell_type": "code",
   "execution_count": 13,
   "metadata": {
    "collapsed": false
   },
   "outputs": [
    {
     "data": {
      "image/png": "[encoded data removed]",
      "text/latex": [
       "$$\\left \\{ \\frac{d^{2}}{d t^{2}}  \\theta{\\left (t \\right )} : \\frac{1}{L_{1} m_{2} \\cos^{2}{\\left (\\phi{\\left (t \\right )} - \\theta{\\left (t \\right )} \\right )}} \\left(- \\frac{L_{1} m_{2}}{2} \\sin{\\left (2 \\phi{\\left (t \\right )} - 2 \\theta{\\left (t \\right )} \\right )} \\left(\\frac{d}{d t} \\theta{\\left (t \\right )}\\right)^{2} - L_{2} m_{2} \\sin{\\left (\\phi{\\left (t \\right )} - \\theta{\\left (t \\right )} \\right )} \\left(\\frac{d}{d t} \\phi{\\left (t \\right )}\\right)^{2} + g m_{1} \\sin{\\left (\\theta{\\left (t \\right )} \\right )} - \\frac{g m_{2}}{2} \\sin{\\left (2 \\phi{\\left (t \\right )} - \\theta{\\left (t \\right )} \\right )} + \\frac{g m_{2}}{2} \\sin{\\left (\\theta{\\left (t \\right )} \\right )}\\right)\\right \\}$$"
      ],
      "text/plain": [
       "⎧                                                  2                          \n",
       "⎪                                        ⎛d       ⎞                           \n",
       "⎪             L₁⋅m₂⋅sin(2⋅φ(t) - 2⋅θ(t))⋅⎜──(θ(t))⎟                           \n",
       "⎪                                        ⎝dt      ⎠                           \n",
       "⎨  2        - ────────────────────────────────────── - L₂⋅m₂⋅sin(φ(t) - θ(t))⋅\n",
       "⎪ d                             2                                             \n",
       "⎪───(θ(t)): ──────────────────────────────────────────────────────────────────\n",
       "⎪  2                                                                          \n",
       "⎩dt                                                                  L₁⋅m₂⋅cos\n",
       "\n",
       "                                                                       ⎫\n",
       "                                                                       ⎪\n",
       "          2                                                            ⎪\n",
       "⎛d       ⎞                     g⋅m₂⋅sin(2⋅φ(t) - θ(t))   g⋅m₂⋅sin(θ(t))⎪\n",
       "⎜──(φ(t))⎟  + g⋅m₁⋅sin(θ(t)) - ─────────────────────── + ──────────────⎬\n",
       "⎝dt      ⎠                                2                    2       ⎪\n",
       "───────────────────────────────────────────────────────────────────────⎪\n",
       "2                                                                      ⎪\n",
       " (φ(t) - θ(t))                                                         ⎭"
      ]
     },
     "execution_count": 13,
     "metadata": {},
     "output_type": "execute_result"
    }
   ],
   "source": [
    "#sustituyo en diffPhi2 en diffTheta2 y luego resuelvo\n",
    "diffTheta3 = sym.Eq(diffTheta2,sym.diff(theta(t),t,t))\n",
    "diffTheta2IN = diffTheta2.subs({(sym.diff(phi(t),t,t)): diffPhi2})\n",
    "p3 = sym.solvers.solve([diffTheta2IN],[sym.diff(theta(t),t,t)])\n",
    "sym.simplify(p3)"
   ]
  },
  {
   "cell_type": "code",
   "execution_count": 14,
   "metadata": {
    "collapsed": false
   },
   "outputs": [
    {
     "data": {
      "image/png": "[encoded data removed]",
      "text/latex": [
       "$$\\left \\{ \\frac{d^{2}}{d t^{2}}  \\phi{\\left (t \\right )} : - \\frac{1}{2 L_{2} \\left(m_{1} - m_{2} \\cos^{2}{\\left (\\phi{\\left (t \\right )} - \\theta{\\left (t \\right )} \\right )} + m_{2}\\right)} \\left(2 L_{1} m_{1} \\sin{\\left (\\phi{\\left (t \\right )} - \\theta{\\left (t \\right )} \\right )} \\left(\\frac{d}{d t} \\theta{\\left (t \\right )}\\right)^{2} + 2 L_{1} m_{2} \\sin{\\left (\\phi{\\left (t \\right )} - \\theta{\\left (t \\right )} \\right )} \\left(\\frac{d}{d t} \\theta{\\left (t \\right )}\\right)^{2} + L_{2} m_{2} \\sin{\\left (2 \\phi{\\left (t \\right )} - 2 \\theta{\\left (t \\right )} \\right )} \\left(\\frac{d}{d t} \\phi{\\left (t \\right )}\\right)^{2} + g m_{1} \\sin{\\left (\\phi{\\left (t \\right )} - 2 \\theta{\\left (t \\right )} \\right )} + g m_{1} \\sin{\\left (\\phi{\\left (t \\right )} \\right )} + g m_{2} \\sin{\\left (\\phi{\\left (t \\right )} - 2 \\theta{\\left (t \\right )} \\right )} + g m_{2} \\sin{\\left (\\phi{\\left (t \\right )} \\right )}\\right)\\right \\}$$"
      ],
      "text/plain": [
       "⎧            ⎛                                   2                            \n",
       "⎪            ⎜                         ⎛d       ⎞                             \n",
       "⎪  2        -⎜2⋅L₁⋅m₁⋅sin(φ(t) - θ(t))⋅⎜──(θ(t))⎟  + 2⋅L₁⋅m₂⋅sin(φ(t) - θ(t))⋅\n",
       "⎨ d          ⎝                         ⎝dt      ⎠                             \n",
       "⎪───(φ(t)): ──────────────────────────────────────────────────────────────────\n",
       "⎪  2                                                                          \n",
       "⎩dt                                                                           \n",
       "\n",
       "          2                                        2                          \n",
       "⎛d       ⎞                               ⎛d       ⎞                           \n",
       "⎜──(θ(t))⎟  + L₂⋅m₂⋅sin(2⋅φ(t) - 2⋅θ(t))⋅⎜──(φ(t))⎟  + g⋅m₁⋅sin(φ(t) - 2⋅θ(t))\n",
       "⎝dt      ⎠                               ⎝dt      ⎠                           \n",
       "──────────────────────────────────────────────────────────────────────────────\n",
       "                       ⎛           2                  ⎞                       \n",
       "                  2⋅L₂⋅⎝m₁ - m₂⋅cos (φ(t) - θ(t)) + m₂⎠                       \n",
       "\n",
       "                                                            ⎞ ⎫\n",
       "                                                            ⎟ ⎪\n",
       " + g⋅m₁⋅sin(φ(t)) + g⋅m₂⋅sin(φ(t) - 2⋅θ(t)) + g⋅m₂⋅sin(φ(t))⎟ ⎪\n",
       "                                                            ⎠ ⎬\n",
       "──────────────────────────────────────────────────────────────⎪\n",
       "                                                              ⎪\n",
       "                                                              ⎭"
      ]
     },
     "execution_count": 14,
     "metadata": {},
     "output_type": "execute_result"
    }
   ],
   "source": [
    "#sustituyo en diffTheta2 en diffPhi2 y luego resuelvo\n",
    "diffPhi3 = sym.Eq(diffPhi2,sym.diff(phi(t),t,t))\n",
    "diffPhi2IN = diffPhi3.subs({(sym.diff(theta(t),t,t)): diffTheta2})\n",
    "p4 = sym.solvers.solve([diffPhi2IN],[sym.diff(phi(t),t,t)])\n",
    "sym.simplify(p4)"
   ]
  },
  {
   "cell_type": "code",
   "execution_count": 15,
   "metadata": {
    "collapsed": false
   },
   "outputs": [],
   "source": [
    "#saco el dato del tipo de dato DICT\n",
    "p3_eq = p3[sym.diff(theta(t),t,t)]\n",
    "p4_eq = p4[sym.diff(phi(t),t,t)]"
   ]
  },
  {
   "cell_type": "code",
   "execution_count": 162,
   "metadata": {
    "collapsed": false
   },
   "outputs": [],
   "source": [
    "#defino las variables iniciales\n",
    "lon1 = 1.2 \n",
    "lon2 = 1.0\n",
    "ma1 = 2.0 \n",
    "ma2 = 3.0\n",
    "gr  = 9.8 \n",
    "args = [lon1,lon2,ma1,ma2,gr]\n",
    "time = [0.0,20.0,0.05] # inicio, final, dt\n",
    "ic   = [np.pi/2, np.pi*0.95, 0.0, 0.0] # pocision inicial, casi vertical"
   ]
  },
  {
   "cell_type": "markdown",
   "metadata": {},
   "source": [
    "Pimero veo si es posible encontrar una solución *analítica* con dsolve"
   ]
  },
  {
   "cell_type": "code",
   "execution_count": 163,
   "metadata": {
    "collapsed": false
   },
   "outputs": [
    {
     "ename": "NotImplementedError",
     "evalue": "",
     "output_type": "error",
     "traceback": [
      "\u001b[1;31m---------------------------------------------------------------------------\u001b[0m",
      "\u001b[1;31mNotImplementedError\u001b[0m                       Traceback (most recent call last)",
      "\u001b[1;32m<ipython-input-163-42b5ebe5712e>\u001b[0m in \u001b[0;36m<module>\u001b[1;34m()\u001b[0m\n\u001b[1;32m----> 1\u001b[1;33m \u001b[0mdsolve\u001b[0m\u001b[1;33m(\u001b[0m\u001b[1;33m(\u001b[0m\u001b[0mp3_eq\u001b[0m\u001b[1;33m,\u001b[0m\u001b[0mp4_eq\u001b[0m\u001b[1;33m)\u001b[0m\u001b[1;33m)\u001b[0m\u001b[1;33m\u001b[0m\u001b[0m\n\u001b[0m",
      "\u001b[1;32m/opt/anaconda/lib/python2.7/site-packages/sympy/solvers/ode.pyc\u001b[0m in \u001b[0;36mdsolve\u001b[1;34m(eq, func, hint, simplify, ics, xi, eta, x0, n, **kwargs)\u001b[0m\n\u001b[0;32m    601\u001b[0m             \"number of functions being equal to number of equations\")\n\u001b[0;32m    602\u001b[0m         \u001b[1;32mif\u001b[0m \u001b[0mmatch\u001b[0m\u001b[1;33m[\u001b[0m\u001b[1;34m'type_of_equation'\u001b[0m\u001b[1;33m]\u001b[0m \u001b[1;32mis\u001b[0m \u001b[0mNone\u001b[0m\u001b[1;33m:\u001b[0m\u001b[1;33m\u001b[0m\u001b[0m\n\u001b[1;32m--> 603\u001b[1;33m             \u001b[1;32mraise\u001b[0m \u001b[0mNotImplementedError\u001b[0m\u001b[1;33m\u001b[0m\u001b[0m\n\u001b[0m\u001b[0;32m    604\u001b[0m         \u001b[1;32melse\u001b[0m\u001b[1;33m:\u001b[0m\u001b[1;33m\u001b[0m\u001b[0m\n\u001b[0;32m    605\u001b[0m             \u001b[1;32mif\u001b[0m \u001b[0mmatch\u001b[0m\u001b[1;33m[\u001b[0m\u001b[1;34m'is_linear'\u001b[0m\u001b[1;33m]\u001b[0m \u001b[1;33m==\u001b[0m \u001b[0mTrue\u001b[0m\u001b[1;33m:\u001b[0m\u001b[1;33m\u001b[0m\u001b[0m\n",
      "\u001b[1;31mNotImplementedError\u001b[0m: "
     ]
    }
   ],
   "source": [
    "dsolve((p3_eq,p4_eq))"
   ]
  },
  {
   "cell_type": "markdown",
   "metadata": {},
   "source": [
    "Separo las dos ecuaciones de 2do orden en catro ecuaciones de 1er orden $p, q , \\frac{dp}{dt}, \\frac{dq}{dt}$"
   ]
  },
  {
   "cell_type": "markdown",
   "metadata": {},
   "source": [
    "Al intentar resolverla por el software **Maple** muestra los tipos de solver que utiliza, donde finalmente no encuentra una solución:\n",
    "\n",
    "    Methods for second order ODEs:\n",
    "    --- Trying classification methods ---\n",
    "    trying 2nd order Liouville\n",
    "    trying 2nd order WeierstrassP\n",
    "    trying 2nd order JacobiSN\n",
    "    differential order: 2; trying a linearization to 3rd order\n",
    "    trying 2nd order ODE linearizable_by_differentiation\n",
    "    trying 2nd order, 2 integrating factors of the form mu(x,y)\n",
    "    trying differential order: 2; missing variables\n",
    "    trying 2nd order, integrating factors of the form mu(x,y)/(y')^n, only the singular cases\n",
    "    trying symmetries linear in x and y(x)\n",
    "    trying differential order: 2; exact nonlinear\n",
    "    trying 2nd order, integrating factor of the form mu(y')\n",
    "    trying 2nd order, integrating factor of the form mu(x,y')\n",
    "    trying 2nd order, integrating factor of the form mu(x,y)/(y')^n, only the general case\n",
    "    trying 2nd order, integrating factor of the form mu(y,y')\n",
    "    trying differential order: 2; mu polynomial in y'\n",
    "    trying 2nd order, integrating factor of the form mu(x,y)\n",
    "    differential order: 2; looking for linear symmetries\n",
    "    trying 2nd order, integrating factor of the form mu(x,y)/(y')^n, only the general case\n",
    "    --- Trying Lie symmetry methods, 2nd order ---\n",
    "     -> Computing symmetries using: way = 3\n",
    "     -> Computing symmetries using: way = 5\n",
    "     -> Computing symmetries using: way = patterns\n",
    "    Methods for second order ODEs:\n",
    "    --- Trying classification methods ---\n",
    "    trying 2nd order Liouville\n",
    "    trying 2nd order WeierstrassP\n",
    "    trying 2nd order JacobiSN\n",
    "    differential order: 2; trying a linearization to 3rd order\n",
    "    trying 2nd order ODE linearizable_by_differentiation\n",
    "    trying 2nd order, 2 integrating factors of the form mu(x,y)\n",
    "    trying differential order: 2; missing variables\n",
    "    trying 2nd order, integrating factors of the form mu(x,y)/(y')^n, only the singular cases\n",
    "    trying symmetries linear in x and y(x)\n",
    "    trying differential order: 2; exact nonlinear\n",
    "    trying 2nd order, integrating factor of the form mu(y')\n",
    "    trying 2nd order, integrating factor of the form mu(x,y')\n",
    "    trying 2nd order, integrating factor of the form mu(x,y)/(y')^n, only the general case\n",
    "    trying 2nd order, integrating factor of the form mu(y,y')\n",
    "    trying differential order: 2; mu polynomial in y'\n",
    "    trying 2nd order, integrating factor of the form mu(x,y)\n",
    "    differential order: 2; looking for linear symmetries\n",
    "    trying 2nd order, integrating factor of the form mu(x,y)/(y')^n, only the general case\n",
    "    --- Trying Lie symmetry methods, 2nd order ---\n",
    "     -> Computing symmetries using: way = 3\n",
    "     -> Computing symmetries using: way = 5\n",
    "     -> Computing symmetries using: way = patterns\n",
    "    Methods for second order ODEs:\n",
    "    --- Trying classification methods ---\n",
    "    trying 2nd order Liouville\n",
    "    trying 2nd order WeierstrassP\n",
    "    trying 2nd order JacobiSN\n",
    "    differential order: 2; trying a linearization to 3rd order\n",
    "    trying 2nd order ODE linearizable_by_differentiation\n",
    "    trying 2nd order, 2 integrating factors of the form mu(x,y)\n",
    "    trying differential order: 2; missing variables\n",
    "    trying 2nd order, integrating factors of the form mu(x,y)/(y')^n, only the singular cases\n",
    "    trying symmetries linear in x and y(x)\n",
    "    trying differential order: 2; exact nonlinear\n",
    "    trying 2nd order, integrating factor of the form mu(y')\n",
    "    trying 2nd order, integrating factor of the form mu(x,y')\n",
    "    trying 2nd order, integrating factor of the form mu(x,y)/(y')^n, only the general case\n",
    "    trying 2nd order, integrating factor of the form mu(y,y')\n",
    "    trying differential order: 2; mu polynomial in y'\n",
    "    trying 2nd order, integrating factor of the form mu(x,y)\n",
    "    differential order: 2; looking for linear symmetries\n",
    "    trying 2nd order, integrating factor of the form mu(x,y)/(y')^n, only the general case\n",
    "    --- Trying Lie symmetry methods, 2nd order ---\n",
    "     -> Computing symmetries using: way = 3\n",
    "     -> Computing symmetries using: way = 5\n",
    "     -> Computing symmetries using: way = patterns\n",
    "    Methods for second order ODEs:\n",
    "    --- Trying classification methods ---\n",
    "    trying 2nd order Liouville\n",
    "    trying 2nd order WeierstrassP\n",
    "    trying 2nd order JacobiSN\n",
    "    differential order: 2; trying a linearization to 3rd order\n",
    "    trying 2nd order ODE linearizable_by_differentiation\n",
    "    trying 2nd order, 2 integrating factors of the form mu(x,y)\n",
    "    trying differential order: 2; missing variables\n",
    "    trying 2nd order, integrating factors of the form mu(x,y)/(y')^n, only the singular cases\n",
    "    trying symmetries linear in x and y(x)\n",
    "    trying differential order: 2; exact nonlinear\n",
    "    trying 2nd order, integrating factor of the form mu(y')\n",
    "    trying 2nd order, integrating factor of the form mu(x,y')\n",
    "    trying 2nd order, integrating factor of the form mu(x,y)/(y')^n, only the general case\n",
    "    trying 2nd order, integrating factor of the form mu(y,y')\n",
    "    trying differential order: 2; mu polynomial in y'\n",
    "    trying 2nd order, integrating factor of the form mu(x,y)\n",
    "    differential order: 2; looking for linear symmetries\n",
    "    trying 2nd order, integrating factor of the form mu(x,y)/(y')^n, only the general case\n",
    "    --- Trying Lie symmetry methods, 2nd order ---\n",
    "     -> Computing symmetries using: way = 3\n",
    "     -> Computing symmetries using: way = 5\n",
    "     -> Computing symmetries using: way = patterns"
   ]
  },
  {
   "cell_type": "code",
   "execution_count": 164,
   "metadata": {
    "collapsed": false
   },
   "outputs": [
    {
     "data": {
      "image/png": "[encoded data removed]",
      "text/latex": [
       "$$\\left ( \\frac{1}{\\cos^{2}{\\left (\\phi{\\left (t \\right )} - \\theta{\\left (t \\right )} \\right )}} \\left(- 0.833333333333333 \\sin{\\left (\\phi{\\left (t \\right )} - \\theta{\\left (t \\right )} \\right )} \\left(\\frac{d}{d t} \\phi{\\left (t \\right )}\\right)^{2} - 0.5 \\sin{\\left (2 \\phi{\\left (t \\right )} - 2 \\theta{\\left (t \\right )} \\right )} \\left(\\frac{d}{d t} \\theta{\\left (t \\right )}\\right)^{2} - 4.08333333333333 \\sin{\\left (2 \\phi{\\left (t \\right )} - \\theta{\\left (t \\right )} \\right )} + 9.52777777777778 \\sin{\\left (\\theta{\\left (t \\right )} \\right )}\\right), \\quad - \\frac{1}{- 3.0 \\cos^{2}{\\left (\\phi{\\left (t \\right )} - \\theta{\\left (t \\right )} \\right )} + 5.0} \\left(24.5 \\sin{\\left (\\phi{\\left (t \\right )} - 2 \\theta{\\left (t \\right )} \\right )} + 6.0 \\sin{\\left (\\phi{\\left (t \\right )} - \\theta{\\left (t \\right )} \\right )} \\left(\\frac{d}{d t} \\theta{\\left (t \\right )}\\right)^{2} + 1.5 \\sin{\\left (2 \\phi{\\left (t \\right )} - 2 \\theta{\\left (t \\right )} \\right )} \\left(\\frac{d}{d t} \\phi{\\left (t \\right )}\\right)^{2} + 24.5 \\sin{\\left (\\phi{\\left (t \\right )} \\right )}\\right)\\right )$$"
      ],
      "text/plain": [
       "⎛                  ⎛                                       2                  \n",
       "⎜                  ⎜                             ⎛d       ⎞                   \n",
       "⎜0.277777777777778⋅⎜- -3.0⋅(-1)⋅sin(φ(t) - θ(t))⋅⎜──(φ(t))⎟  - -1.8⋅(-1)⋅sin(2\n",
       "⎜                  ⎝                             ⎝dt      ⎠                   \n",
       "⎜─────────────────────────────────────────────────────────────────────────────\n",
       "⎜                                                                       2     \n",
       "⎝                                                                    cos (φ(t)\n",
       "\n",
       "                          2                                                 ⎞ \n",
       "                ⎛d       ⎞                                                  ⎟ \n",
       "⋅φ(t) - 2⋅θ(t))⋅⎜──(θ(t))⎟  - -14.7⋅(-1)⋅sin(2⋅φ(t) - θ(t)) + 34.3⋅sin(θ(t))⎟ \n",
       "                ⎝dt      ⎠                                                  ⎠ \n",
       "─────────────────────────────────────────────────────────────────────────────,\n",
       "                                                                              \n",
       " - θ(t))                                                                      \n",
       "\n",
       "      ⎛                                                          2            \n",
       "      ⎜                                                ⎛d       ⎞             \n",
       " -0.5⋅⎜49.0⋅sin(φ(t) - 2⋅θ(t)) + 12.0⋅sin(φ(t) - θ(t))⋅⎜──(θ(t))⎟  + 3.0⋅sin(2\n",
       "      ⎝                                                ⎝dt      ⎠             \n",
       " ─────────────────────────────────────────────────────────────────────────────\n",
       "                                                            2                 \n",
       "                                             - -3.0⋅(-1)⋅cos (φ(t) - θ(t)) + 5\n",
       "\n",
       "                          2                 ⎞ ⎞\n",
       "                ⎛d       ⎞                  ⎟ ⎟\n",
       "⋅φ(t) - 2⋅θ(t))⋅⎜──(φ(t))⎟  + 49.0⋅sin(φ(t))⎟ ⎟\n",
       "                ⎝dt      ⎠                  ⎠ ⎟\n",
       "──────────────────────────────────────────────⎟\n",
       "                                              ⎟\n",
       ".0                                            ⎠"
      ]
     },
     "execution_count": 164,
     "metadata": {},
     "output_type": "execute_result"
    }
   ],
   "source": [
    "dpdt = p3_eq.subs({L1: lon1, L2:lon2, m1: ma1, m2: ma2, g: gr  })\n",
    "dqdt = p4_eq.subs({L1: lon1, L2:lon2, m1: ma1, m2: ma2, g: gr  })\n",
    "dpdt,dqdt"
   ]
  },
  {
   "cell_type": "markdown",
   "metadata": {},
   "source": [
    "La ecuación de movimiento del pendulo doble No puede ser calculada [analíticamente](http://www.physics.usyd.edu.au/~wheat/preprints/DynamicsDoublePendulum.pdf) Para obtener las posiciones de las masas utilizo el método [Runge-Kutta](http://www.myphysicslab.com/runge_kutta.html) creando 4 ecuaciónes de primer orden y no dos ecuaciones de segundo orden"
   ]
  },
  {
   "cell_type": "code",
   "execution_count": 165,
   "metadata": {
    "collapsed": true
   },
   "outputs": [],
   "source": [
    "def equations(ti, Y):\n",
    "    #defino las ecuaciones de pendulo doble\n",
    "    a0 = Y[0] # Angulo theta\n",
    "    ao = Y[1] # Angulo Phi\n",
    "    d0 = Y[2] # Velocidad angular theta\n",
    "    do = Y[3] # Velocidad angular Phi\n",
    "    p_t = d0\n",
    "    q_t = do\n",
    "    dpdt_t = dpdt.subs({ theta(t): a0, phi(t): ao, sym.diff(phi(t),t): p_t, sym.diff(theta(t),t):q_t  })\n",
    "    dqdt_t = dqdt.subs({ theta(t): a0, phi(t): ao, sym.diff(phi(t),t): p_t, sym.diff(theta(t),t):q_t  })\n",
    "    return [p_t, q_t, dpdt_t, dqdt_t]"
   ]
  },
  {
   "cell_type": "code",
   "execution_count": 166,
   "metadata": {
    "collapsed": true
   },
   "outputs": [],
   "source": [
    "def calculate_trajectory(args,time,y0):\n",
    "    #solución numérica\n",
    "    t0,t1,dt = time\n",
    "    r = ode(equations).set_integrator('dopri5')\n",
    "    r.set_initial_value(y0, t0).set_f_params(args)\n",
    "    data=[[t0, y0[0], y0[1], y0[2], y0[3] ]]\n",
    "    while r.successful() and r.t < t1:\n",
    "        r.integrate(r.t+dt)\n",
    "        data.append([r.t, r.y[0], r.y[1], r.y[2], r.y[3] ])\n",
    "    return np.array(data)"
   ]
  },
  {
   "cell_type": "code",
   "execution_count": 167,
   "metadata": {
    "collapsed": true
   },
   "outputs": [],
   "source": [
    "def from_angle_to_xy(args,angles):\n",
    "    #Convierte angulos en las posiciones x,y \n",
    "    lon1,lon2,ma1,ma2,gr = args\n",
    "    time,thetas1,thetas2 = angles.T\n",
    "    X1 =  lon1*np.sin(thetas1)\n",
    "    Y1 = -lon1*np.cos(thetas1)\n",
    "    X2 =  lon2*np.sin(thetas2) + X1\n",
    "    Y2 = -lon2*np.cos(thetas2) + Y1\n",
    "    \n",
    "    return np.array([time,X1,Y1,X2,Y2]).T"
   ]
  },
  {
   "cell_type": "code",
   "execution_count": 168,
   "metadata": {
    "collapsed": true
   },
   "outputs": [],
   "source": [
    "def plot_last_seconds(data,index):\n",
    "    how_long = 0.6 # seconds\n",
    "    n = int(how_long/time[2])\n",
    "    to_plot = data[:index,:]\n",
    "    if index < n:\n",
    "        prepend =  np.tile(data[0],(n-index,1))\n",
    "        to_plot = np.vstack([prepend,to_plot])\n",
    "        index = n\n",
    "    colormap = plt.cm.Greys_r\n",
    "    colors = [colormap(i) for i in np.linspace(0.0, 1.0, n-1)]\n",
    "    plots = []\n",
    "    for j in np.arange(n-1):\n",
    "        p, = ax.plot(to_plot[index-j-1:index-j+1,3],to_plot[index-j-1:index-j+1,4],\n",
    "                color=colors[j])\n",
    "        plots.append(p)\n",
    "    return plots"
   ]
  },
  {
   "cell_type": "code",
   "execution_count": 169,
   "metadata": {
    "collapsed": false,
    "scrolled": true
   },
   "outputs": [
    {
     "data": {
      "image/png": "[encoded data removed]",
      "text/latex": [
       "$$401$$"
      ],
      "text/plain": [
       "401"
      ]
     },
     "execution_count": 169,
     "metadata": {},
     "output_type": "execute_result"
    }
   ],
   "source": [
    "d = calculate_trajectory(args,time,ic)\n",
    "data_TXY = from_angle_to_xy(args,d[:,:3])\n",
    "len(data_TXY)"
   ]
  },
  {
   "cell_type": "code",
   "execution_count": 170,
   "metadata": {
    "collapsed": false
   },
   "outputs": [
    {
     "name": "stdout",
     "output_type": "stream",
     "text": [
      "len: 401\n"
     ]
    },
    {
     "data": {
      "image/png": "[encoded data removed]",
      "text/plain": [
       "<matplotlib.figure.Figure at 0x9c4cdc4c>"
      ]
     },
     "metadata": {},
     "output_type": "display_data"
    }
   ],
   "source": [
    "plt.ion()\n",
    "fig = plt.figure()\n",
    "ax = fig.add_subplot(111)\n",
    "\n",
    "line, = ax.plot([], [], 'o-', lw=2)\n",
    "t,x1,y1,x2,y2 = data_TXY[0]\n",
    "line1, = ax.plot([0.0,x1], [0.0,y1], 'r-')\n",
    "line2, = ax.plot([x1,x2], [y1,y2], 'r-')\n",
    "circ1, = ax.plot([x1], [y1], 'ro',markersize=10)\n",
    "circ2, = ax.plot([x2], [y2], 'ro',markersize=10)\n",
    "time_text = ax.text(0.05, 0.9, '', transform=ax.transAxes)\n",
    "ax.axis([-2.5,2.5,-2.5,2.5])\n",
    "time_template = 'time = %.1fs'\n",
    "plt.axes().set_aspect('equal')\n",
    "dt = 0.05\n",
    "\n",
    "def init():\n",
    "    line.set_data([], [])\n",
    "    time_text.set_text('')\n",
    "    return line, time_text\n",
    "\n",
    "\n",
    "def animate(i):\n",
    "    \n",
    "    pls = plot_last_seconds(data_TXY,i)\n",
    "    t,x1,y1,x2,y2 = data_TXY[i]\n",
    "    line1.set_data([0.0,x1],[0.0,y1])\n",
    "    line2.set_data([x1,x2],[y1,y2])\n",
    "    circ1.set_data([x1],[y1])\n",
    "    circ2.set_data([x2],[y2])\n",
    "    ax.set_title(\"Mike : 2168234\") \n",
    "    fig.canvas.draw()\n",
    "    \n",
    "    thisx = [0, x1, x2]\n",
    "    thisy = [0, y1, y2]\n",
    "    line.set_data(thisx, thisy)\n",
    "    time_text.set_text(time_template % (i*dt))\n",
    "    return line, time_text\n",
    "\n",
    "print(\"len: \" + str(len(data_TXY)))\n",
    "ani = animation.FuncAnimation(fig, animate, np.arange(1, len(data_TXY)),\n",
    "                              interval=25, \n",
    "                              blit=True, \n",
    "                              init_func=init)\n",
    "\n",
    "ani.save('double_pendulum_Mike_def.mp4', fps=15)\n",
    "plt.show()"
   ]
  },
  {
   "cell_type": "code",
   "execution_count": 186,
   "metadata": {
    "collapsed": false
   },
   "outputs": [
    {
     "data": {
      "text/html": [
       "<iframe src=\"https://www.youtube.com/embed/fyufv6SZxQw\" allowfullscreen seamless frameBorder=\"0\"></iframe>"
      ],
      "text/plain": [
       "<IPython.core.display.HTML object>"
      ]
     },
     "execution_count": 186,
     "metadata": {},
     "output_type": "execute_result"
    }
   ],
   "source": [
    "HTML('<iframe src=\"https://www.youtube.com/embed/fyufv6SZxQw\" allowfullscreen seamless frameBorder=\"0\"></iframe>')"
   ]
  },
  {
   "cell_type": "code",
   "execution_count": 188,
   "metadata": {
    "collapsed": false
   },
   "outputs": [
    {
     "data": {
      "text/html": [
       "<iframe src=\"https://www.youtube.com/embed/rr8Fpb7egHI\" allowfullscreen seamless frameBorder=\"0\"></iframe>"
      ],
      "text/plain": [
       "<IPython.core.display.HTML object>"
      ]
     },
     "execution_count": 188,
     "metadata": {},
     "output_type": "execute_result"
    }
   ],
   "source": [
    "HTML('<iframe src=\"https://www.youtube.com/embed/rr8Fpb7egHI\" allowfullscreen seamless frameBorder=\"0\"></iframe>')"
   ]
  },
  {
   "cell_type": "code",
   "execution_count": null,
   "metadata": {
    "collapsed": true
   },
   "outputs": [],
   "source": []
  }
 ],
 "metadata": {
  "kernelspec": {
   "display_name": "Python 2",
   "language": "python",
   "name": "python2"
  },
  "language_info": {
   "codemirror_mode": {
    "name": "ipython",
    "version": 2
   },
   "file_extension": ".py",
   "mimetype": "text/x-python",
   "name": "python",
   "nbconvert_exporter": "python",
   "pygments_lexer": "ipython2",
   "version": "2.7.11"
  },
  "toc": {
   "toc_cell": false,
   "toc_number_sections": false,
   "toc_section_display": "block",
   "toc_threshold": 6,
   "toc_window_display": false
  },
  "toc_position": {
   "height": "239px",
   "left": "1016.02px",
   "right": "20px",
   "top": "111px",
   "width": "306px"
  }
 },
 "nbformat": 4,
 "nbformat_minor": 0
}
